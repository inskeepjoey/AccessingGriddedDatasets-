{
 "cells": [
  {
   "cell_type": "code",
   "execution_count": 1,
   "id": "56516463",
   "metadata": {},
   "outputs": [],
   "source": [
    "import requests \n",
    "import numpy as np"
   ]
  },
  {
   "cell_type": "code",
   "execution_count": 2,
   "id": "2d00351f",
   "metadata": {},
   "outputs": [],
   "source": [
    "# username = 'xxxxxx'\n",
    "# password = 'yyyyyy'"
   ]
  },
  {
   "cell_type": "code",
   "execution_count": 5,
   "id": "97f4240a",
   "metadata": {},
   "outputs": [
    {
     "name": "stdout",
     "output_type": "stream",
     "text": [
      "[1980 1981]\n"
     ]
    }
   ],
   "source": [
    "# create  a variable called years, create a numpy array, which will give me an array of the years (1980-2021)\n",
    "years = np.arange(1980, 1982)\n",
    "print(years)"
   ]
  },
  {
   "cell_type": "code",
   "execution_count": 6,
   "id": "662d3f00",
   "metadata": {},
   "outputs": [],
   "source": [
    "# proceed with for loop that will iterate through the numpy array and download each file from the url\n",
    "for year in years:\n",
    "    url = 'https://thredds.daac.ornl.gov/thredds/dodsC/ornldaac/2129/daymet_v4_daily_na_prcp_' + str(year) + '.nc' # not sure if URL is correct, used OPeNDAP \n",
    "    r = requests.get(url, allow_redirects = True) # add authorization keys if needed, specify arguments via auth = username,password),  auth=(username, password), after url \n",
    "                                                                            # auth keys may not be needed in which case take out auth\n",
    "    open('daymet_V4_Daily-na-prcp'+ str(year)+ '.nc', 'wb').write(r.content)\n",
    "#next thing is to create a for loop which will enable the code to run through each and every file"
   ]
  },
  {
   "cell_type": "code",
   "execution_count": null,
   "id": "a44ef5ab",
   "metadata": {},
   "outputs": [],
   "source": []
  }
 ],
 "metadata": {
  "kernelspec": {
   "display_name": "Python 3 (ipykernel)",
   "language": "python",
   "name": "python3"
  },
  "language_info": {
   "codemirror_mode": {
    "name": "ipython",
    "version": 3
   },
   "file_extension": ".py",
   "mimetype": "text/x-python",
   "name": "python",
   "nbconvert_exporter": "python",
   "pygments_lexer": "ipython3",
   "version": "3.9.15"
  }
 },
 "nbformat": 4,
 "nbformat_minor": 5
}
