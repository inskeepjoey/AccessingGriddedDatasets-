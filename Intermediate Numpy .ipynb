{
 "cells": [
  {
   "cell_type": "code",
   "execution_count": 1,
   "id": "363e68f2",
   "metadata": {},
   "outputs": [],
   "source": [
    "import matplotlib.pyplot as plt \n",
    "import numpy as np "
   ]
  },
  {
   "cell_type": "markdown",
   "id": "c4c0704e",
   "metadata": {},
   "source": [
    "We introduce an important concept when working with NumPy: the axis. This indicates the particular dimension along which a function should operate (provided the function does something taking multiple values and converts to a single value)."
   ]
  },
  {
   "cell_type": "markdown",
   "id": "5de2081d",
   "metadata": {},
   "source": [
    "Let's look at a concrete example with sum:"
   ]
  },
  {
   "cell_type": "code",
   "execution_count": 2,
   "id": "44ac6d98",
   "metadata": {},
   "outputs": [
    {
     "data": {
      "text/plain": [
       "array([[ 0,  1,  2,  3],\n",
       "       [ 4,  5,  6,  7],\n",
       "       [ 8,  9, 10, 11]])"
      ]
     },
     "execution_count": 2,
     "metadata": {},
     "output_type": "execute_result"
    }
   ],
   "source": [
    "a = np.arange(12).reshape(3, 4)\n",
    "a"
   ]
  },
  {
   "cell_type": "markdown",
   "id": "5ced2412",
   "metadata": {},
   "source": [
    "This calculates the total of all values in the array."
   ]
  },
  {
   "cell_type": "code",
   "execution_count": 3,
   "id": "dceb5db5",
   "metadata": {},
   "outputs": [
    {
     "data": {
      "text/plain": [
       "66"
      ]
     },
     "execution_count": 3,
     "metadata": {},
     "output_type": "execute_result"
    }
   ],
   "source": [
    "np.sum(a)"
   ]
  },
  {
   "cell_type": "markdown",
   "id": "9407da5e",
   "metadata": {},
   "source": [
    "Some of NumPy's functions can be accessed as ndarray methods!"
   ]
  },
  {
   "cell_type": "code",
   "execution_count": 4,
   "id": "c6b93812",
   "metadata": {},
   "outputs": [
    {
     "data": {
      "text/plain": [
       "66"
      ]
     },
     "execution_count": 4,
     "metadata": {},
     "output_type": "execute_result"
    }
   ],
   "source": [
    "a.sum()"
   ]
  },
  {
   "cell_type": "markdown",
   "id": "b9973b39",
   "metadata": {},
   "source": [
    "Now, with a reminder about how our array is shaped\n"
   ]
  },
  {
   "cell_type": "code",
   "execution_count": 5,
   "id": "1dc960a9",
   "metadata": {},
   "outputs": [
    {
     "data": {
      "text/plain": [
       "(3, 4)"
      ]
     },
     "execution_count": 5,
     "metadata": {},
     "output_type": "execute_result"
    }
   ],
   "source": [
    "a.shape"
   ]
  },
  {
   "cell_type": "markdown",
   "id": "b21a15ac",
   "metadata": {},
   "source": [
    "We can specify axis to get just the sum across each\n",
    "of our rows."
   ]
  },
  {
   "cell_type": "code",
   "execution_count": 7,
   "id": "1cfcc57d",
   "metadata": {},
   "outputs": [
    {
     "data": {
      "text/plain": [
       "array([12, 15, 18, 21])"
      ]
     },
     "execution_count": 7,
     "metadata": {},
     "output_type": "execute_result"
    }
   ],
   "source": [
    "np.sum(a, axis=0)"
   ]
  },
  {
   "cell_type": "markdown",
   "id": "cef074a1",
   "metadata": {},
   "source": [
    "or do the same and take the sum across columns:"
   ]
  },
  {
   "cell_type": "code",
   "execution_count": 8,
   "id": "1cf8dc55",
   "metadata": {},
   "outputs": [
    {
     "data": {
      "text/plain": [
       "array([ 6, 22, 38])"
      ]
     },
     "execution_count": 8,
     "metadata": {},
     "output_type": "execute_result"
    }
   ],
   "source": [
    "np.sum(a, axis=1)"
   ]
  },
  {
   "cell_type": "markdown",
   "id": "37ea6329",
   "metadata": {},
   "source": [
    "After putting together some data and introducing some more advanced calculations, let's demonstrate a multi-layered example: calculating temperature advection. If you're not familiar with this (don't worry!)."
   ]
  },
  {
   "cell_type": "code",
   "execution_count": 9,
   "id": "5e1e14b0",
   "metadata": {},
   "outputs": [],
   "source": [
    "temp = np.random.randn(100,50)\n",
    "u = np.random.randn(100, 50)\n",
    "v = np.random.randn(100, 50)"
   ]
  },
  {
   "cell_type": "markdown",
   "id": "ae17a324",
   "metadata": {},
   "source": [
    "We can calculate the np.gradient of our new T(100x50) field as two separate component gradients."
   ]
  },
  {
   "cell_type": "code",
   "execution_count": 10,
   "id": "4c64ec8b",
   "metadata": {},
   "outputs": [],
   "source": [
    "gradient_x, gradient_y = np.gradient(temp)"
   ]
  },
  {
   "cell_type": "markdown",
   "id": "19a1ebad",
   "metadata": {},
   "source": [
    "In order to calculate we will use np.dstack to turn our two separate component gradient fileds into one multidimensional field containing x and y gradients at each of our 100x50 points "
   ]
  },
  {
   "cell_type": "code",
   "execution_count": 12,
   "id": "f3f2c0b6",
   "metadata": {},
   "outputs": [
    {
     "name": "stdout",
     "output_type": "stream",
     "text": [
      "[[[ 1.21520066  1.50152722]\n",
      "  [-1.03390298  1.49868306]\n",
      "  [-1.89026821 -0.12033022]\n",
      "  ...\n",
      "  [-1.89165844  0.53862551]\n",
      "  [-0.52107845  0.34735251]\n",
      "  [-1.39398477 -0.29921679]]\n",
      "\n",
      " [[ 0.30304238 -0.74757642]\n",
      "  [-0.03784033 -0.05405137]\n",
      "  [-1.00024187 -0.54844377]\n",
      "  ...\n",
      "  [-0.74011753  0.6809359 ]\n",
      "  [-1.00403739  0.59618935]\n",
      "  [ 0.54276879 -1.17212311]]\n",
      "\n",
      " [[-0.35375589  0.8197618 ]\n",
      "  [ 0.77481337  0.19539881]\n",
      "  [ 0.53437576  0.29027689]\n",
      "  ...\n",
      "  [-0.00699489 -0.88128311]\n",
      "  [-0.54271793  1.63023883]\n",
      "  [-0.05093407  2.79439557]]\n",
      "\n",
      " ...\n",
      "\n",
      " [[ 0.72326626 -0.92025822]\n",
      "  [ 0.3569283  -0.35462256]\n",
      "  [ 0.02045078  0.05005195]\n",
      "  ...\n",
      "  [-0.68583973  0.50125239]\n",
      "  [ 0.16138458 -0.33889984]\n",
      "  [-0.85276466 -1.88679487]]\n",
      "\n",
      " [[-0.10254398  0.36715959]\n",
      "  [ 1.10071389 -1.26721506]\n",
      "  [ 0.04313362 -1.22721281]\n",
      "  ...\n",
      "  [ 0.19409313  0.9305779 ]\n",
      "  [ 0.27497837 -1.37301091]\n",
      "  [ 0.40665221 -2.76839273]]\n",
      "\n",
      " [[-1.52164009  1.4862575 ]\n",
      "  [-0.40254218 -0.20894497]\n",
      "  [ 0.59490009 -1.09344135]\n",
      "  ...\n",
      "  [-0.59877371  0.34896377]\n",
      "  [ 0.74962104 -0.12634076]\n",
      "  [ 1.89456659 -1.62344719]]]\n",
      "(100, 50, 2)\n"
     ]
    }
   ],
   "source": [
    "grad_vectors = np.dstack([gradient_x, gradient_y])\n",
    "print(grad_vectors)\n",
    "print(grad_vectors.shape)"
   ]
  },
  {
   "cell_type": "markdown",
   "id": "905b508f",
   "metadata": {},
   "source": [
    "and then do the same for our separate u and v wind components "
   ]
  },
  {
   "cell_type": "code",
   "execution_count": 13,
   "id": "88b6fb02",
   "metadata": {},
   "outputs": [
    {
     "name": "stdout",
     "output_type": "stream",
     "text": [
      "(100, 50, 2)\n"
     ]
    }
   ],
   "source": [
    "wind_vectors = np.dstack([u, v])\n",
    "print(wind_vectors.shape)"
   ]
  },
  {
   "cell_type": "code",
   "execution_count": 14,
   "id": "dd92e91f",
   "metadata": {},
   "outputs": [
    {
     "name": "stdout",
     "output_type": "stream",
     "text": [
      "(100, 50)\n"
     ]
    }
   ],
   "source": [
    "advection = (wind_vectors * -grad_vectors).sum(axis=-1)\n",
    "print(advection.shape)"
   ]
  },
  {
   "cell_type": "code",
   "execution_count": 15,
   "id": "688b78de",
   "metadata": {},
   "outputs": [],
   "source": [
    "#create some synthetic data representing temperature and wind speed data\n",
    "np.random.seed(19990503) # make sure we all have the same data \n",
    "temp = 20 * np.cos(np.linspace(0, 2 * np.pi, 100)) + 50 + 2 * np.random.randn(100)\n",
    "speed = np.abs(\n",
    "    10 * np.sin(np.linspace(0, 2 * np.pi, 100)) + 10 + 5 * np.random.randn(100)\n",
    ")"
   ]
  },
  {
   "cell_type": "code",
   "execution_count": 16,
   "id": "598eabbd",
   "metadata": {},
   "outputs": [
    {
     "data": {
      "text/plain": [
       "[<matplotlib.lines.Line2D at 0x23bbd5199c0>]"
      ]
     },
     "execution_count": 16,
     "metadata": {},
     "output_type": "execute_result"
    },
    {
     "data": {
      "image/png": "[encoded data removed]",
      "text/plain": [
       "<Figure size 640x480 with 1 Axes>"
      ]
     },
     "metadata": {},
     "output_type": "display_data"
    }
   ],
   "source": [
    "plt.plot(temp, 'tab:red')\n",
    "plt.plot(speed, 'tab:blue')"
   ]
  },
  {
   "cell_type": "markdown",
   "id": "cc7efbb9",
   "metadata": {},
   "source": [
    "By doing a comparison between a NumPy array and a value, we get an array of values representing the results of the comparison between each element and the value"
   ]
  },
  {
   "cell_type": "code",
   "execution_count": 26,
   "id": "ce741647",
   "metadata": {},
   "outputs": [
    {
     "data": {
      "text/plain": [
       "array([ True,  True,  True,  True,  True,  True,  True,  True,  True,\n",
       "        True,  True,  True,  True,  True,  True,  True,  True,  True,\n",
       "        True,  True,  True,  True,  True,  True,  True,  True,  True,\n",
       "        True, False, False,  True, False, False, False, False, False,\n",
       "       False, False, False, False, False, False, False, False, False,\n",
       "       False, False, False, False, False, False, False, False, False,\n",
       "       False, False, False, False, False, False, False, False, False,\n",
       "       False, False,  True, False, False, False, False,  True,  True,\n",
       "        True,  True,  True,  True,  True,  True,  True,  True,  True,\n",
       "        True,  True,  True,  True,  True,  True,  True,  True,  True,\n",
       "        True,  True,  True,  True,  True,  True,  True,  True,  True,\n",
       "        True])"
      ]
     },
     "execution_count": 26,
     "metadata": {},
     "output_type": "execute_result"
    }
   ],
   "source": [
    "temp > 45\n"
   ]
  },
  {
   "cell_type": "code",
   "execution_count": 18,
   "id": "8dd1ebe6",
   "metadata": {},
   "outputs": [
    {
     "data": {
      "text/plain": [
       "array([69.89825854, 71.52313905, 69.90028363, 66.73828667, 66.77980233,\n",
       "       72.91468564, 69.34603239, 69.09533591, 68.27350814, 64.33916721,\n",
       "       67.49497791, 67.05282372, 63.51829518, 63.54034678, 65.46576463,\n",
       "       62.99683836, 59.27662304, 61.29361272, 60.51641586, 57.46048995,\n",
       "       55.19793004, 53.07572989, 54.47998158, 53.09552107, 54.59037269,\n",
       "       47.84272747, 49.1435589 , 45.87151534, 45.11976794, 45.009292  ,\n",
       "       46.36021141, 46.87557425, 47.25668992, 50.09599544, 53.77789358,\n",
       "       50.24073197, 54.07629059, 51.95065202, 55.84827794, 57.56967086,\n",
       "       57.19572063, 61.67658285, 56.51474577, 59.72166924, 62.99403256,\n",
       "       63.57569453, 64.05984232, 60.88258643, 65.37759899, 63.94115754,\n",
       "       65.53070256, 67.15175649, 66.26468701, 67.03811793, 69.17773618,\n",
       "       69.83571708, 70.99586742, 66.34971928, 67.49905207, 69.83593609])"
      ]
     },
     "execution_count": 18,
     "metadata": {},
     "output_type": "execute_result"
    }
   ],
   "source": [
    "temp[temp > 45]"
   ]
  },
  {
   "cell_type": "code",
   "execution_count": 21,
   "id": "bbe40f93",
   "metadata": {},
   "outputs": [
    {
     "data": {
      "text/plain": [
       "(60,)"
      ]
     },
     "execution_count": 21,
     "metadata": {},
     "output_type": "execute_result"
    }
   ],
   "source": [
    "temp[temp > 45].shape\n"
   ]
  },
  {
   "cell_type": "code",
   "execution_count": 27,
   "id": "aa72c490",
   "metadata": {},
   "outputs": [],
   "source": [
    "temp_45 = temp[temp > 45]"
   ]
  },
  {
   "cell_type": "code",
   "execution_count": 28,
   "id": "89f81373",
   "metadata": {},
   "outputs": [
    {
     "ename": "IndexError",
     "evalue": "boolean index did not match indexed array along dimension 0; dimension is 60 but corresponding boolean dimension is 100",
     "output_type": "error",
     "traceback": [
      "\u001b[1;31m---------------------------------------------------------------------------\u001b[0m",
      "\u001b[1;31mIndexError\u001b[0m                                Traceback (most recent call last)",
      "Cell \u001b[1;32mIn[28], line 1\u001b[0m\n\u001b[1;32m----> 1\u001b[0m \u001b[43mtemp_45\u001b[49m\u001b[43m[\u001b[49m\u001b[43mtemp\u001b[49m\u001b[43m \u001b[49m\u001b[38;5;241;43m<\u001b[39;49m\u001b[43m \u001b[49m\u001b[38;5;241;43m45\u001b[39;49m\u001b[43m]\u001b[49m\n",
      "\u001b[1;31mIndexError\u001b[0m: boolean index did not match indexed array along dimension 0; dimension is 60 but corresponding boolean dimension is 100"
     ]
    }
   ],
   "source": [
    "temp_45[temp < 45]"
   ]
  },
  {
   "cell_type": "markdown",
   "id": "88feae0c",
   "metadata": {},
   "source": [
    "We find that our original (100,) shape array is too large to subset our new (60,) array. If their sizes do match, the boolean array can come from a totally different array!"
   ]
  },
  {
   "cell_type": "code",
   "execution_count": 29,
   "id": "1defec28",
   "metadata": {},
   "outputs": [
    {
     "data": {
      "text/plain": [
       "array([False, False, False,  True,  True, False,  True,  True,  True,\n",
       "        True,  True,  True,  True,  True,  True,  True,  True,  True,\n",
       "        True,  True,  True,  True,  True,  True,  True,  True,  True,\n",
       "        True,  True,  True, False,  True,  True,  True,  True, False,\n",
       "        True,  True,  True,  True, False,  True,  True,  True,  True,\n",
       "        True,  True, False,  True,  True, False,  True, False, False,\n",
       "       False, False, False, False, False, False, False, False, False,\n",
       "       False,  True, False, False, False, False, False, False, False,\n",
       "       False, False, False, False, False, False, False, False, False,\n",
       "       False, False, False, False, False, False, False, False, False,\n",
       "       False, False, False, False,  True,  True, False, False, False,\n",
       "        True])"
      ]
     },
     "execution_count": 29,
     "metadata": {},
     "output_type": "execute_result"
    }
   ],
   "source": [
    "speed > 10"
   ]
  },
  {
   "cell_type": "code",
   "execution_count": 30,
   "id": "5a038475",
   "metadata": {},
   "outputs": [
    {
     "data": {
      "text/plain": [
       "array([66.73828667, 66.77980233, 69.34603239, 69.09533591, 68.27350814,\n",
       "       64.33916721, 67.49497791, 67.05282372, 63.51829518, 63.54034678,\n",
       "       65.46576463, 62.99683836, 59.27662304, 61.29361272, 60.51641586,\n",
       "       57.46048995, 55.19793004, 53.07572989, 54.47998158, 53.09552107,\n",
       "       54.59037269, 47.84272747, 49.1435589 , 45.87151534, 43.95971516,\n",
       "       42.72814762, 42.45316175, 39.2797517 , 40.23351938, 36.77179678,\n",
       "       34.43329229, 31.42277612, 38.97505745, 34.10549575, 35.70826448,\n",
       "       29.01276068, 30.31180935, 29.31602671, 32.84580454, 30.76695309,\n",
       "       29.11344716, 30.16652571, 29.91513049, 39.51784389, 69.17773618,\n",
       "       69.83571708, 69.83593609])"
      ]
     },
     "execution_count": 30,
     "metadata": {},
     "output_type": "execute_result"
    }
   ],
   "source": [
    "temp[speed > 10]"
   ]
  },
  {
   "cell_type": "code",
   "execution_count": 31,
   "id": "d71c48fa",
   "metadata": {},
   "outputs": [
    {
     "data": {
      "text/plain": [
       "(47,)"
      ]
     },
     "execution_count": 31,
     "metadata": {},
     "output_type": "execute_result"
    }
   ],
   "source": [
    "temp[speed > 10].shape"
   ]
  },
  {
   "cell_type": "code",
   "execution_count": 32,
   "id": "36ab4951",
   "metadata": {},
   "outputs": [],
   "source": [
    "# make a copy of our original array so we don't modify the original data\n",
    "temp2 = temp.copy()\n",
    "speed2 = speed.copy()\n",
    "\n",
    "#Replace all places where speed is < 10 with NaN (not a number)\n",
    "temp2[speed < 10] = np.nan\n",
    "speed2[speed < 10] = np.nan"
   ]
  },
  {
   "cell_type": "code",
   "execution_count": 33,
   "id": "d66e9720",
   "metadata": {},
   "outputs": [
    {
     "data": {
      "image/png": "[encoded data removed]",
      "text/plain": [
       "<Figure size 640x480 with 1 Axes>"
      ]
     },
     "metadata": {},
     "output_type": "display_data"
    }
   ],
   "source": [
    "plt.plot(temp2, 'tab:red');"
   ]
  },
  {
   "cell_type": "code",
   "execution_count": 34,
   "id": "eabea5e9",
   "metadata": {},
   "outputs": [
    {
     "data": {
      "image/png": "[encoded data removed]",
      "text/plain": [
       "<Figure size 640x480 with 1 Axes>"
      ]
     },
     "metadata": {},
     "output_type": "display_data"
    }
   ],
   "source": [
    "#and to put this in context\n",
    "plt.plot(temp, 'r:')\n",
    "plt.plot(temp2, 'r')\n",
    "plt.plot(speed, 'b:')\n",
    "plt.plot(speed2, 'b');"
   ]
  },
  {
   "cell_type": "markdown",
   "id": "66cf78db",
   "metadata": {},
   "source": [
    "If we use parentheses to preserve the order of operations, we can combine these conditions with other bitwise operators like the & for bitwise_and,"
   ]
  },
  {
   "cell_type": "code",
   "execution_count": 36,
   "id": "bee49dca",
   "metadata": {},
   "outputs": [
    {
     "data": {
      "text/plain": [
       "array([False, False, False, False, False, False, False, False, False,\n",
       "       False, False, False, False, False, False, False, False, False,\n",
       "       False, False, False, False, False, False, False, False, False,\n",
       "       False,  True,  True, False,  True,  True,  True,  True, False,\n",
       "        True,  True,  True,  True, False,  True,  True,  True,  True,\n",
       "        True,  True, False,  True,  True, False,  True, False, False,\n",
       "       False, False, False, False, False, False, False, False, False,\n",
       "       False,  True, False, False, False, False, False, False, False,\n",
       "       False, False, False, False, False, False, False, False, False,\n",
       "       False, False, False, False, False, False, False, False, False,\n",
       "       False, False, False, False, False, False, False, False, False,\n",
       "       False])"
      ]
     },
     "execution_count": 36,
     "metadata": {},
     "output_type": "execute_result"
    }
   ],
   "source": [
    "multi_mask = (temp < 45) & (speed > 10)\n",
    "multi_mask"
   ]
  },
  {
   "cell_type": "code",
   "execution_count": 37,
   "id": "ab020335",
   "metadata": {},
   "outputs": [
    {
     "data": {
      "text/plain": [
       "array([43.95971516, 42.72814762, 42.45316175, 39.2797517 , 40.23351938,\n",
       "       36.77179678, 34.43329229, 31.42277612, 38.97505745, 34.10549575,\n",
       "       35.70826448, 29.01276068, 30.31180935, 29.31602671, 32.84580454,\n",
       "       30.76695309, 29.11344716, 30.16652571, 29.91513049, 39.51784389])"
      ]
     },
     "execution_count": 37,
     "metadata": {},
     "output_type": "execute_result"
    }
   ],
   "source": [
    "temp[multi_mask]"
   ]
  },
  {
   "cell_type": "markdown",
   "id": "cb123804",
   "metadata": {},
   "source": [
    "Heat index is only defined for temperatures >= 80F and relative humidity values >= 40%. Using the data generated below, we can use boolean indexing to extract the data where heat index has a valid value."
   ]
  },
  {
   "cell_type": "code",
   "execution_count": 41,
   "id": "72529f9d",
   "metadata": {},
   "outputs": [
    {
     "name": "stdout",
     "output_type": "stream",
     "text": [
      "[64.41045129 63.94107515 66.2175621  71.48588167 76.57561274 56.97061424\n",
      " 65.6174912  71.21926314 58.15670461 62.93320686 62.03087447 47.92098601\n",
      " 50.42226541 49.67509403 41.95956847 42.14908    39.81835347 48.55489779\n",
      " 33.78038018 30.47764103 38.23335058 39.92390669 29.67728279 33.01165767\n",
      " 31.87556551 37.78283124 38.50032926 35.85896142 29.47521117 35.66832585\n",
      " 21.67733168 38.83641439 45.29454296 41.45231233 35.50992064 35.97650684\n",
      " 45.70336274 48.70880311 51.61888004 55.71014844 49.99526349 58.22074331\n",
      " 59.65439058 61.23007811 62.50272656 64.06486141 75.7876089  63.13004094\n",
      " 69.66969486 69.77177554 63.11171784 78.54129716 59.93579341 64.66317527\n",
      " 61.46583548 64.27090944 61.12801306 54.61804699 50.90918957 51.92442128\n",
      " 58.65704847 46.48468608 53.72962669 53.02952364 54.53396602 33.57472879\n",
      " 32.33761646 38.69309578 37.51989429 40.07917883 27.58292488 38.0317938\n",
      " 36.1162744  27.0816335  30.96242929 39.31009319 29.55533081 37.8800335\n",
      " 29.95739885 31.72573287 32.51128121 33.79755872 45.20607412 40.49783854\n",
      " 42.78918286 51.9027108  44.36015057 57.42368975 50.50188062 57.37508485\n",
      " 56.82786483 60.42161966 62.53121244 66.34374865 70.00249702 73.15546325\n",
      " 64.51325691 68.78735036 66.71913472 72.86574715]\n",
      "[ 99.89825854 101.52313905  99.90028363  96.73828667  96.77980233\n",
      " 102.91468564  99.34603239  99.09533591  98.27350814  94.33916721\n",
      "  97.49497791  97.05282372  93.51829518  93.54034678  95.46576463\n",
      "  92.99683836  91.29361272  86.51474577  89.72166924  92.99403256\n",
      "  93.57569453  94.05984232  90.88258643  95.37759899  93.94115754\n",
      "  95.53070256  97.15175649  96.26468701  97.03811793  99.17773618\n",
      "  99.83571708 100.99586742  96.34971928  97.49905207  99.83593609]\n",
      "[64.41045129 63.94107515 66.2175621  71.48588167 76.57561274 56.97061424\n",
      " 65.6174912  71.21926314 58.15670461 62.93320686 62.03087447 47.92098601\n",
      " 50.42226541 49.67509403 41.95956847 42.14908    48.55489779 45.20607412\n",
      " 40.49783854 42.78918286 51.9027108  44.36015057 57.42368975 50.50188062\n",
      " 57.37508485 56.82786483 60.42161966 62.53121244 66.34374865 70.00249702\n",
      " 73.15546325 64.51325691 68.78735036 66.71913472 72.86574715]\n"
     ]
    }
   ],
   "source": [
    "#Here's the \"data\" (fake dataset we generated using np.random)\n",
    "np.random.seed(19990503)\n",
    "temp = 20 * np.cos(np.linspace(0, 2 * np.pi, 100)) + 80 +2 * np.random.randn(100)\n",
    "relative_humidity = np.abs(\n",
    "    20 * np.cos(np.linspace(0, 4 * np.pi, 100)) + 50 + 5 * np.random.randn(100)\n",
    ")\n",
    "\n",
    "print(relative_humidity)\n",
    "#crete a mask for the two conditions described above \n",
    "good_heat_index = (temp >= 80) & (relative_humidity >= 40)\n",
    "\n",
    "#Use this mask to grab the temperature and relative values that together \n",
    "#will give good heat index values\n",
    "print(temp[good_heat_index])\n",
    "print(relative_humidity[good_heat_index])"
   ]
  },
  {
   "cell_type": "markdown",
   "id": "1ca930c6",
   "metadata": {},
   "source": [
    "Another bitwise operator we can find helpful is Python's ~ complement operator, which can give us the inverse of our specefic mask to let us assign np.nan to every value not satisfied in good_heat_index."
   ]
  },
  {
   "cell_type": "code",
   "execution_count": 44,
   "id": "c4fb862f",
   "metadata": {},
   "outputs": [
    {
     "data": {
      "image/png": "[encoded data removed]",
      "text/plain": [
       "<Figure size 640x480 with 1 Axes>"
      ]
     },
     "metadata": {},
     "output_type": "display_data"
    }
   ],
   "source": [
    "plot_temp = temp.copy()\n",
    "plot_temp[~good_heat_index]=np.nan\n",
    "plt.plot(plot_temp, 'tab:red');"
   ]
  },
  {
   "cell_type": "markdown",
   "id": "b09b144f",
   "metadata": {},
   "source": [
    "## Indexing using arrays of indices \n",
    "\n",
    "You can also use a list or array of indices to extract particular values - this is a natural extension of the regular indexing. For instance, just as we can select the first element:"
   ]
  },
  {
   "cell_type": "code",
   "execution_count": 45,
   "id": "59cf1414",
   "metadata": {},
   "outputs": [
    {
     "data": {
      "text/plain": [
       "99.89825854468695"
      ]
     },
     "execution_count": 45,
     "metadata": {},
     "output_type": "execute_result"
    }
   ],
   "source": [
    "temp[0]"
   ]
  },
  {
   "cell_type": "markdown",
   "id": "aaa1cd70",
   "metadata": {},
   "source": [
    "We can also extract the first, fifth, and tenth elements as a list:"
   ]
  },
  {
   "cell_type": "code",
   "execution_count": 46,
   "id": "d51b93ec",
   "metadata": {},
   "outputs": [
    {
     "data": {
      "text/plain": [
       "array([99.89825854, 96.77980233, 94.33916721])"
      ]
     },
     "execution_count": 46,
     "metadata": {},
     "output_type": "execute_result"
    }
   ],
   "source": [
    "temp[[0, 4, 9]]"
   ]
  },
  {
   "cell_type": "markdown",
   "id": "30d0689a",
   "metadata": {},
   "source": [
    "One of the ways this comes into plsy is trying to sort NumPy arrays using argsort. This function returns the indices of the array that give the items in sorted order. So for our temp,"
   ]
  },
  {
   "cell_type": "code",
   "execution_count": 47,
   "id": "5bf232eb",
   "metadata": {},
   "outputs": [
    {
     "data": {
      "text/plain": [
       "array([52, 57, 42, 48, 54, 44, 56, 51, 49, 43, 50, 46, 58, 55, 53, 40, 37,\n",
       "       61, 47, 45, 59, 39, 36, 60, 41, 34, 66, 63, 35, 38, 32, 62, 64, 33,\n",
       "       31, 67, 29, 28, 68, 69, 65, 30, 27, 70, 71, 72, 25, 26, 73, 75, 77,\n",
       "       21, 23, 74, 76, 22, 24, 20, 78, 82, 80, 19, 79, 16, 83, 18, 87, 17,\n",
       "       81, 84, 15, 12, 13, 85, 89, 86,  9, 88, 14, 90, 92, 97,  3,  4, 93,\n",
       "       11, 91, 10, 98,  8,  7, 94,  6, 95, 99,  0,  2, 96,  1,  5],\n",
       "      dtype=int64)"
      ]
     },
     "execution_count": 47,
     "metadata": {},
     "output_type": "execute_result"
    }
   ],
   "source": [
    "inds = np.argsort(temp)\n",
    "inds"
   ]
  },
  {
   "cell_type": "markdown",
   "id": "9ce54cae",
   "metadata": {},
   "source": [
    "i.e., our lowest value is at index 52, next 57, and so on. We can use this array of indices as an index for temp,"
   ]
  },
  {
   "cell_type": "code",
   "execution_count": 48,
   "id": "c73db2b3",
   "metadata": {},
   "outputs": [
    {
     "data": {
      "text/plain": [
       "array([ 58.71828204,  58.85269149,  59.01276068,  59.11344716,\n",
       "        59.25186164,  59.31602671,  59.42796381,  59.91513049,\n",
       "        60.16652571,  60.31180935,  60.48608715,  60.76695309,\n",
       "        60.93380275,  60.95814392,  61.07199963,  61.1341411 ,\n",
       "        61.42277612,  62.27369636,  62.44927684,  62.84580454,\n",
       "        63.37573713,  64.10549575,  64.43329229,  64.95696914,\n",
       "        65.70826448,  66.77179678,  67.06954335,  67.39853293,\n",
       "        67.7453367 ,  68.97505745,  69.2797517 ,  69.34620461,\n",
       "        69.51784389,  70.23351938,  72.45316175,  72.69583703,\n",
       "        72.72814762,  73.95971516,  74.03576453,  74.45775806,\n",
       "        75.009292  ,  75.11976794,  75.87151534,  76.36021141,\n",
       "        76.87557425,  77.25668992,  77.84272747,  79.1435589 ,\n",
       "        80.09599544,  80.24073197,  81.95065202,  83.07572989,\n",
       "        83.09552107,  83.77789358,  84.07629059,  84.47998158,\n",
       "        84.59037269,  85.19793004,  85.84827794,  86.51474577,\n",
       "        87.19572063,  87.46048995,  87.56967086,  89.27662304,\n",
       "        89.72166924,  90.51641586,  90.88258643,  91.29361272,\n",
       "        91.67658285,  92.99403256,  92.99683836,  93.51829518,\n",
       "        93.54034678,  93.57569453,  93.94115754,  94.05984232,\n",
       "        94.33916721,  95.37759899,  95.46576463,  95.53070256,\n",
       "        96.26468701,  96.34971928,  96.73828667,  96.77980233,\n",
       "        97.03811793,  97.05282372,  97.15175649,  97.49497791,\n",
       "        97.49905207,  98.27350814,  99.09533591,  99.17773618,\n",
       "        99.34603239,  99.83571708,  99.83593609,  99.89825854,\n",
       "        99.90028363, 100.99586742, 101.52313905, 102.91468564])"
      ]
     },
     "execution_count": 48,
     "metadata": {},
     "output_type": "execute_result"
    }
   ],
   "source": [
    "temp[inds]"
   ]
  },
  {
   "cell_type": "markdown",
   "id": "6cb1f08c",
   "metadata": {},
   "source": [
    "to get a sorted array back!\n",
    "\n",
    "With some clever slicing, we can pull out the last 10, or 10 highest, values of temp,"
   ]
  },
  {
   "cell_type": "code",
   "execution_count": 53,
   "id": "e822d060",
   "metadata": {},
   "outputs": [
    {
     "name": "stdout",
     "output_type": "stream",
     "text": [
      "[ 99.09533591  99.17773618  99.34603239  99.83571708  99.83593609\n",
      "  99.89825854  99.90028363 100.99586742 101.52313905 102.91468564]\n",
      "[58.71828204 58.85269149 59.01276068 59.11344716 59.25186164 59.31602671\n",
      " 59.42796381 59.91513049 60.16652571 60.31180935]\n"
     ]
    }
   ],
   "source": [
    "ten_highest = inds[-10:]\n",
    "ten_lowest = inds[:10]\n",
    "print(temp[ten_highest])\n",
    "print(temp[ten_lowest])"
   ]
  },
  {
   "cell_type": "markdown",
   "id": "243e2f80",
   "metadata": {},
   "source": [
    "There are other NumPy arg functions that return indices for operating, check out the NumPy docs on sorting your arrays!"
   ]
  },
  {
   "cell_type": "markdown",
   "id": "622b4ef2",
   "metadata": {},
   "source": [
    "## Summary \n",
    "\n",
    "In this notebook we introduced the power of understanding the dimensions of our data by specifying math along axis, used True and False values to subset our data according to conditions, and used lists of positions within our array to sort our data."
   ]
  },
  {
   "cell_type": "markdown",
   "id": "3fdab118",
   "metadata": {},
   "source": [
    "## What's Next\n",
    "\n",
    "Taking some time to practice thhis is valuable to be able to quickly manipulate arrays of information in useful or scientific ways."
   ]
  },
  {
   "cell_type": "code",
   "execution_count": null,
   "id": "5c60bd59",
   "metadata": {},
   "outputs": [],
   "source": []
  }
 ],
 "metadata": {
  "kernelspec": {
   "display_name": "Python 3 (ipykernel)",
   "language": "python",
   "name": "python3"
  },
  "language_info": {
   "codemirror_mode": {
    "name": "ipython",
    "version": 3
   },
   "file_extension": ".py",
   "mimetype": "text/x-python",
   "name": "python",
   "nbconvert_exporter": "python",
   "pygments_lexer": "ipython3",
   "version": "3.10.8"
  }
 },
 "nbformat": 4,
 "nbformat_minor": 5
}
