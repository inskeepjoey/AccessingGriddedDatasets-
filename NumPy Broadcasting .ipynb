{
 "cells": [
  {
   "cell_type": "markdown",
   "id": "740eab4d",
   "metadata": {},
   "source": [
    "# Numpy Broadcasting \n",
    "\n",
    "## Overview \n",
    "\n",
    "Broadcasting is a valuable part of the power that NumPy provides. However, there's no looking past the fact that broadcasting can be conceptually difficult to digest. This information can be helpful and very powerful, but we also suggest moving on to take a look at some of the label-based corners of the Python ecosystem, namely Pandas and Xarray for the ways that they make some of these concepts simpler or easier to use for real-world data.\n",
    "\n",
    "    1. An introduction to broadcasting \n",
    "    2. Avoiding loops with vectorization \n",
    "    "
   ]
  },
  {
   "cell_type": "markdown",
   "id": "e1ba22e1",
   "metadata": {},
   "source": [
    "## Imports "
   ]
  },
  {
   "cell_type": "code",
   "execution_count": 1,
   "id": "a0e23de0",
   "metadata": {},
   "outputs": [],
   "source": [
    "import numpy as np "
   ]
  },
  {
   "cell_type": "markdown",
   "id": "0db3213f",
   "metadata": {},
   "source": [
    "## Using broadcasting to implicitly loop over data\n",
    "\n",
    "### What is broadcasting?\n",
    "\n",
    "Broadcasting is a useful NumPy tool that allows us to perform operations between arrays with different shapes, provided that they are ompatible with each other in certain ways. \n",
    "\n",
    "To start we create an array below and add 5 to it:\n"
   ]
  },
  {
   "cell_type": "code",
   "execution_count": 2,
   "id": "5ad8c228",
   "metadata": {},
   "outputs": [
    {
     "data": {
      "text/plain": [
       "array([15, 25, 35, 45])"
      ]
     },
     "execution_count": 2,
     "metadata": {},
     "output_type": "execute_result"
    }
   ],
   "source": [
    "a = np.array([10, 20, 30, 40])\n",
    "a + 5"
   ]
  },
  {
   "cell_type": "code",
   "execution_count": 3,
   "id": "615d47b1",
   "metadata": {},
   "outputs": [
    {
     "data": {
      "text/plain": [
       "array([10, 20, 30, 40])"
      ]
     },
     "execution_count": 3,
     "metadata": {},
     "output_type": "execute_result"
    }
   ],
   "source": [
    "a"
   ]
  },
  {
   "cell_type": "markdown",
   "id": "b00a4df4",
   "metadata": {},
   "source": [
    "This works even though 5 is not an array; it works like we would expect, adding 5 to each of the elements in a. This also works if 5 is an array:"
   ]
  },
  {
   "cell_type": "code",
   "execution_count": 4,
   "id": "3073b553",
   "metadata": {},
   "outputs": [
    {
     "data": {
      "text/plain": [
       "array([15, 25, 35, 45])"
      ]
     },
     "execution_count": 4,
     "metadata": {},
     "output_type": "execute_result"
    }
   ],
   "source": [
    "b =np.array([5])\n",
    "a + b\n"
   ]
  },
  {
   "cell_type": "markdown",
   "id": "a7775dab",
   "metadata": {},
   "source": [
    "This takes the single element in b and adds it to each of the elements in a. this wont work for just any b, though; For instance, the following:"
   ]
  },
  {
   "cell_type": "code",
   "execution_count": 5,
   "id": "a07d8a91",
   "metadata": {},
   "outputs": [
    {
     "ename": "ValueError",
     "evalue": "operands could not be broadcast together with shapes (4,) (3,) ",
     "output_type": "error",
     "traceback": [
      "\u001b[1;31m---------------------------------------------------------------------------\u001b[0m",
      "\u001b[1;31mValueError\u001b[0m                                Traceback (most recent call last)",
      "Cell \u001b[1;32mIn[5], line 2\u001b[0m\n\u001b[0;32m      1\u001b[0m b \u001b[38;5;241m=\u001b[39m np\u001b[38;5;241m.\u001b[39marray([\u001b[38;5;241m5\u001b[39m, \u001b[38;5;241m6\u001b[39m, \u001b[38;5;241m7\u001b[39m])\n\u001b[1;32m----> 2\u001b[0m \u001b[43ma\u001b[49m\u001b[43m \u001b[49m\u001b[38;5;241;43m+\u001b[39;49m\u001b[43m \u001b[49m\u001b[43mb\u001b[49m\n",
      "\u001b[1;31mValueError\u001b[0m: operands could not be broadcast together with shapes (4,) (3,) "
     ]
    }
   ],
   "source": [
    "b = np.array([5, 6, 7])\n",
    "a + b"
   ]
  },
  {
   "cell_type": "markdown",
   "id": "d972550e",
   "metadata": {},
   "source": [
    "Wont work, it does work if a and b are the same shape:"
   ]
  },
  {
   "cell_type": "code",
   "execution_count": 6,
   "id": "f98631da",
   "metadata": {},
   "outputs": [
    {
     "data": {
      "text/plain": [
       "array([15, 25, 40, 50])"
      ]
     },
     "execution_count": 6,
     "metadata": {},
     "output_type": "execute_result"
    }
   ],
   "source": [
    "b = np.array([5, 5, 10, 10])\n",
    "a + b"
   ]
  },
  {
   "cell_type": "markdown",
   "id": "fe6bf520",
   "metadata": {},
   "source": [
    "What if what we really want is pairwise addition of a, b? Without broadcasting, we could accomplish this by looping:"
   ]
  },
  {
   "cell_type": "code",
   "execution_count": 16,
   "id": "c915cf18",
   "metadata": {},
   "outputs": [
    {
     "data": {
      "text/plain": [
       "array([1, 2, 3, 4, 5])"
      ]
     },
     "execution_count": 16,
     "metadata": {},
     "output_type": "execute_result"
    }
   ],
   "source": [
    "b =np.array([1, 2, 3, 4, 5])\n",
    "b"
   ]
  },
  {
   "cell_type": "code",
   "execution_count": 11,
   "id": "d48eae74",
   "metadata": {},
   "outputs": [
    {
     "data": {
      "text/plain": [
       "array([[11, 21, 31, 41],\n",
       "       [12, 22, 32, 42],\n",
       "       [13, 23, 33, 43],\n",
       "       [14, 24, 34, 44],\n",
       "       [15, 25, 35, 45]])"
      ]
     },
     "execution_count": 11,
     "metadata": {},
     "output_type": "execute_result"
    }
   ],
   "source": [
    "result = np.empty((5,4), dtype=np.int32) ##creates empty array to store values \n",
    "for row, valb in enumerate(b):\n",
    "    for col, vala in enumerate(a):\n",
    "        result[row, col] = vala + valb\n",
    "result"
   ]
  },
  {
   "cell_type": "markdown",
   "id": "6af06091",
   "metadata": {},
   "source": [
    "Quick not on \"enumerate:\" Often, when dealing with iterators, we also need to keep count of iterations. Python eases the programmers' task by providing built-in function enumerate() for this task. Enumerate() method adds a counter to an iterable and returns it in a form of enumerating object. This enumerated object can then be used directly for loops or converted into a list of tuples using the list() method."
   ]
  },
  {
   "cell_type": "markdown",
   "id": "b69e636a",
   "metadata": {},
   "source": [
    "We can also do this by manually repeating the arrays to the proper shape for the result, using np.tile. This avoids the need to manually loop:"
   ]
  },
  {
   "cell_type": "code",
   "execution_count": 15,
   "id": "e225a7a9",
   "metadata": {},
   "outputs": [
    {
     "data": {
      "text/plain": [
       "array([[10, 20, 30, 40],\n",
       "       [10, 20, 30, 40],\n",
       "       [10, 20, 30, 40],\n",
       "       [10, 20, 30, 40],\n",
       "       [10, 20, 30, 40]])"
      ]
     },
     "execution_count": 15,
     "metadata": {},
     "output_type": "execute_result"
    }
   ],
   "source": [
    "aa = np.tile(a, (5, 1))\n",
    "aa"
   ]
  },
  {
   "cell_type": "code",
   "execution_count": 17,
   "id": "8ef503a2",
   "metadata": {},
   "outputs": [
    {
     "data": {
      "text/plain": [
       "array([[1, 1, 1, 1],\n",
       "       [2, 2, 2, 2],\n",
       "       [3, 3, 3, 3],\n",
       "       [4, 4, 4, 4],\n",
       "       [5, 5, 5, 5]])"
      ]
     },
     "execution_count": 17,
     "metadata": {},
     "output_type": "execute_result"
    }
   ],
   "source": [
    "# Turn b into a column array, then tile it \n",
    "bb = np.tile(b.reshape(5, 1), (1, 4))\n",
    "bb"
   ]
  },
  {
   "cell_type": "code",
   "execution_count": 18,
   "id": "cf988714",
   "metadata": {},
   "outputs": [
    {
     "data": {
      "text/plain": [
       "array([[11, 21, 31, 41],\n",
       "       [12, 22, 32, 42],\n",
       "       [13, 23, 33, 43],\n",
       "       [14, 24, 34, 44],\n",
       "       [15, 25, 35, 45]])"
      ]
     },
     "execution_count": 18,
     "metadata": {},
     "output_type": "execute_result"
    }
   ],
   "source": [
    "aa + bb"
   ]
  },
  {
   "cell_type": "markdown",
   "id": "e388e738",
   "metadata": {},
   "source": [
    "## Giving NumPy room for broadcasting \n",
    "\n",
    "We can also do this using broadcasting, which is where NumPy implicitly repeats the array without using additional memory. With broadcasting, NumPy takes care of repeating for you, provided dimensions are \"compatible\". This works as:\n",
    "\n",
    "1. Check the number of dimensions of the arrays, if they are different, prepend size one dimensions\n",
    "2. Check if each of the dimensions are compatible: \n",
    "either the same size or one of them is 1."
   ]
  },
  {
   "cell_type": "code",
   "execution_count": 19,
   "id": "c7d7341d",
   "metadata": {},
   "outputs": [
    {
     "data": {
      "text/plain": [
       "(4,)"
      ]
     },
     "execution_count": 19,
     "metadata": {},
     "output_type": "execute_result"
    }
   ],
   "source": [
    "a.shape"
   ]
  },
  {
   "cell_type": "code",
   "execution_count": 20,
   "id": "65a0cdbc",
   "metadata": {},
   "outputs": [
    {
     "data": {
      "text/plain": [
       "(5,)"
      ]
     },
     "execution_count": 20,
     "metadata": {},
     "output_type": "execute_result"
    }
   ],
   "source": [
    "b.shape"
   ]
  },
  {
   "cell_type": "markdown",
   "id": "19dae23b",
   "metadata": {},
   "source": [
    "Right now they have the same number of dimensions, 1, but that dimension is incompatible. We can solve this by appending a dimension using np.newaxis when indexing:"
   ]
  },
  {
   "cell_type": "code",
   "execution_count": 24,
   "id": "5f145b48",
   "metadata": {},
   "outputs": [
    {
     "data": {
      "text/plain": [
       "(5, 1)"
      ]
     },
     "execution_count": 24,
     "metadata": {},
     "output_type": "execute_result"
    }
   ],
   "source": [
    "bb = b[:, np.newaxis]\n",
    "bb.shape"
   ]
  },
  {
   "cell_type": "code",
   "execution_count": 22,
   "id": "cccf2724",
   "metadata": {},
   "outputs": [
    {
     "data": {
      "text/plain": [
       "array([[11, 21, 31, 41],\n",
       "       [12, 22, 32, 42],\n",
       "       [13, 23, 33, 43],\n",
       "       [14, 24, 34, 44],\n",
       "       [15, 25, 35, 45]])"
      ]
     },
     "execution_count": 22,
     "metadata": {},
     "output_type": "execute_result"
    }
   ],
   "source": [
    "a + bb"
   ]
  },
  {
   "cell_type": "code",
   "execution_count": 25,
   "id": "98b32776",
   "metadata": {},
   "outputs": [
    {
     "data": {
      "text/plain": [
       "(5, 4)"
      ]
     },
     "execution_count": 25,
     "metadata": {},
     "output_type": "execute_result"
    }
   ],
   "source": [
    "(a + bb).shape"
   ]
  },
  {
   "cell_type": "markdown",
   "id": "f66d778c",
   "metadata": {},
   "source": [
    "This can be written more directly in one line:"
   ]
  },
  {
   "cell_type": "code",
   "execution_count": 26,
   "id": "af865ed4",
   "metadata": {},
   "outputs": [
    {
     "data": {
      "text/plain": [
       "array([[11, 21, 31, 41],\n",
       "       [12, 22, 32, 42],\n",
       "       [13, 23, 33, 43],\n",
       "       [14, 24, 34, 44],\n",
       "       [15, 25, 35, 45]])"
      ]
     },
     "execution_count": 26,
     "metadata": {},
     "output_type": "execute_result"
    }
   ],
   "source": [
    "a + b[:, np.newaxis]"
   ]
  },
  {
   "cell_type": "markdown",
   "id": "e0792f3b",
   "metadata": {},
   "source": [
    "## Extending to higher dimensions \n",
    "\n",
    "This also works for higher dimensions. x, y, and z are here different dimensions, and we can broadcast to perform x^2 + y^2 + z^2"
   ]
  },
  {
   "cell_type": "code",
   "execution_count": 29,
   "id": "8423017d",
   "metadata": {},
   "outputs": [
    {
     "data": {
      "text/plain": [
       "array([1, 2])"
      ]
     },
     "execution_count": 29,
     "metadata": {},
     "output_type": "execute_result"
    }
   ],
   "source": [
    "x = np.array([1, 2])\n",
    "y = np.array([3, 4, 5])\n",
    "z = np.array([6, 7, 8, 9])\n",
    "x"
   ]
  },
  {
   "cell_type": "code",
   "execution_count": 30,
   "id": "61db3140",
   "metadata": {},
   "outputs": [
    {
     "data": {
      "text/plain": [
       "array([3, 4, 5])"
      ]
     },
     "execution_count": 30,
     "metadata": {},
     "output_type": "execute_result"
    }
   ],
   "source": [
    "y"
   ]
  },
  {
   "cell_type": "code",
   "execution_count": 31,
   "id": "e2084baf",
   "metadata": {},
   "outputs": [
    {
     "data": {
      "text/plain": [
       "array([6, 7, 8, 9])"
      ]
     },
     "execution_count": 31,
     "metadata": {},
     "output_type": "execute_result"
    }
   ],
   "source": [
    "z"
   ]
  },
  {
   "cell_type": "markdown",
   "id": "624f5a48",
   "metadata": {},
   "source": [
    "First, lets extend x (and square it) by one dimension, onto which we can broadcast the vector y **2 "
   ]
  },
  {
   "cell_type": "code",
   "execution_count": 34,
   "id": "938bfaf3",
   "metadata": {},
   "outputs": [],
   "source": [
    "d_2d = x[:, np.newaxis] ** 2 + y**2"
   ]
  },
  {
   "cell_type": "code",
   "execution_count": 35,
   "id": "b40e1cca",
   "metadata": {},
   "outputs": [
    {
     "data": {
      "text/plain": [
       "array([[10, 17, 26],\n",
       "       [13, 20, 29]])"
      ]
     },
     "execution_count": 35,
     "metadata": {},
     "output_type": "execute_result"
    }
   ],
   "source": [
    "d_2d"
   ]
  },
  {
   "cell_type": "code",
   "execution_count": 36,
   "id": "5f0f5c48",
   "metadata": {},
   "outputs": [
    {
     "data": {
      "text/plain": [
       "(2, 3)"
      ]
     },
     "execution_count": 36,
     "metadata": {},
     "output_type": "execute_result"
    }
   ],
   "source": [
    "d_2d.shape"
   ]
  },
  {
   "cell_type": "markdown",
   "id": "48cfe4f7",
   "metadata": {},
   "source": [
    "And then further extend this new 2-D array by one more dimension before using broadcasting to add z ** 2 across all other dimensions \n"
   ]
  },
  {
   "cell_type": "code",
   "execution_count": 37,
   "id": "6844b7d6",
   "metadata": {},
   "outputs": [],
   "source": [
    "d_3d = d_2d[..., np.newaxis] + z**2"
   ]
  },
  {
   "cell_type": "code",
   "execution_count": 38,
   "id": "9bb0c09e",
   "metadata": {},
   "outputs": [
    {
     "data": {
      "text/plain": [
       "array([[[ 46,  59,  74,  91],\n",
       "        [ 53,  66,  81,  98],\n",
       "        [ 62,  75,  90, 107]],\n",
       "\n",
       "       [[ 49,  62,  77,  94],\n",
       "        [ 56,  69,  84, 101],\n",
       "        [ 65,  78,  93, 110]]])"
      ]
     },
     "execution_count": 38,
     "metadata": {},
     "output_type": "execute_result"
    }
   ],
   "source": [
    "d_3d"
   ]
  },
  {
   "cell_type": "code",
   "execution_count": 39,
   "id": "abe01ec8",
   "metadata": {},
   "outputs": [
    {
     "data": {
      "text/plain": [
       "(2, 3, 4)"
      ]
     },
     "execution_count": 39,
     "metadata": {},
     "output_type": "execute_result"
    }
   ],
   "source": [
    "d_3d.shape"
   ]
  },
  {
   "cell_type": "markdown",
   "id": "7d66dea5",
   "metadata": {},
   "source": [
    "Or in one line:"
   ]
  },
  {
   "cell_type": "code",
   "execution_count": 40,
   "id": "b19120a7",
   "metadata": {},
   "outputs": [],
   "source": [
    "h = x[:, np.newaxis, np.newaxis] ** 2 + y[np.newaxis, :, np.newaxis] ** 2 + z**2"
   ]
  },
  {
   "cell_type": "code",
   "execution_count": 41,
   "id": "37726393",
   "metadata": {},
   "outputs": [
    {
     "data": {
      "text/plain": [
       "array([[[ 46,  59,  74,  91],\n",
       "        [ 53,  66,  81,  98],\n",
       "        [ 62,  75,  90, 107]],\n",
       "\n",
       "       [[ 49,  62,  77,  94],\n",
       "        [ 56,  69,  84, 101],\n",
       "        [ 65,  78,  93, 110]]])"
      ]
     },
     "execution_count": 41,
     "metadata": {},
     "output_type": "execute_result"
    }
   ],
   "source": [
    "h"
   ]
  },
  {
   "cell_type": "code",
   "execution_count": 42,
   "id": "4a1a36c2",
   "metadata": {},
   "outputs": [
    {
     "data": {
      "text/plain": [
       "(2, 3, 4)"
      ]
     },
     "execution_count": 42,
     "metadata": {},
     "output_type": "execute_result"
    }
   ],
   "source": [
    "h.shape"
   ]
  },
  {
   "cell_type": "markdown",
   "id": "b8b7cad2",
   "metadata": {},
   "source": [
    "And we can confirm that the results here are identical "
   ]
  },
  {
   "cell_type": "code",
   "execution_count": 43,
   "id": "af483f07",
   "metadata": {},
   "outputs": [
    {
     "data": {
      "text/plain": [
       "True"
      ]
     },
     "execution_count": 43,
     "metadata": {},
     "output_type": "execute_result"
    }
   ],
   "source": [
    "np.all(h == d_3d)"
   ]
  },
  {
   "cell_type": "markdown",
   "id": "e969ea6a",
   "metadata": {},
   "source": [
    "Broadcasting is often useful when you want to do calculations with coordinate values, which are often given as 1-D arrays corresponding to positions along a particular array dimension. For example, taking range and azimuth values for radar data (1-D separable polar coordinates) and converting to x,y pairs relative to the radar location.\n",
    "\n",
    "Given the 3-D temperature field and 1-D pressure coordinates below, let’s calculate . We will need to use broadcasting to make the arrays compatible!"
   ]
  },
  {
   "cell_type": "code",
   "execution_count": 44,
   "id": "f6713fb1",
   "metadata": {},
   "outputs": [
    {
     "data": {
      "text/plain": [
       "((4,), (4, 3, 2))"
      ]
     },
     "execution_count": 44,
     "metadata": {},
     "output_type": "execute_result"
    }
   ],
   "source": [
    "pressure = np.array([1000, 850, 500, 300])\n",
    "temps = np.linspace(20, 30, 24).reshape(4, 3, 2)\n",
    "pressure.shape, temps.shape"
   ]
  },
  {
   "cell_type": "code",
   "execution_count": 45,
   "id": "e1a6dd2d",
   "metadata": {},
   "outputs": [
    {
     "data": {
      "text/plain": [
       "array([1000,  850,  500,  300])"
      ]
     },
     "execution_count": 45,
     "metadata": {},
     "output_type": "execute_result"
    }
   ],
   "source": [
    "pressure"
   ]
  },
  {
   "cell_type": "code",
   "execution_count": 47,
   "id": "a20a0b97",
   "metadata": {},
   "outputs": [
    {
     "data": {
      "text/plain": [
       "array([[[20.        , 20.43478261],\n",
       "        [20.86956522, 21.30434783],\n",
       "        [21.73913043, 22.17391304]],\n",
       "\n",
       "       [[22.60869565, 23.04347826],\n",
       "        [23.47826087, 23.91304348],\n",
       "        [24.34782609, 24.7826087 ]],\n",
       "\n",
       "       [[25.2173913 , 25.65217391],\n",
       "        [26.08695652, 26.52173913],\n",
       "        [26.95652174, 27.39130435]],\n",
       "\n",
       "       [[27.82608696, 28.26086957],\n",
       "        [28.69565217, 29.13043478],\n",
       "        [29.56521739, 30.        ]]])"
      ]
     },
     "execution_count": 47,
     "metadata": {},
     "output_type": "execute_result"
    }
   ],
   "source": [
    "temps"
   ]
  },
  {
   "cell_type": "code",
   "execution_count": 50,
   "id": "84c8b0d7",
   "metadata": {},
   "outputs": [
    {
     "data": {
      "text/plain": [
       "(4, 1, 1)"
      ]
     },
     "execution_count": 50,
     "metadata": {},
     "output_type": "execute_result"
    }
   ],
   "source": [
    "pressure[:, np.newaxis, np.newaxis].shape"
   ]
  },
  {
   "cell_type": "code",
   "execution_count": 53,
   "id": "e6d81e3d",
   "metadata": {},
   "outputs": [
    {
     "data": {
      "text/plain": [
       "array([[[1000]],\n",
       "\n",
       "       [[ 850]],\n",
       "\n",
       "       [[ 500]],\n",
       "\n",
       "       [[ 300]]])"
      ]
     },
     "execution_count": 53,
     "metadata": {},
     "output_type": "execute_result"
    }
   ],
   "source": [
    "pressure[:, np.newaxis, np.newaxis]"
   ]
  },
  {
   "cell_type": "code",
   "execution_count": 49,
   "id": "2f263150",
   "metadata": {},
   "outputs": [
    {
     "data": {
      "text/plain": [
       "array([[[54.36563657, 55.54749823],\n",
       "        [56.7293599 , 57.91122156],\n",
       "        [59.09308323, 60.27494489]],\n",
       "\n",
       "       [[52.89636361, 53.91360137],\n",
       "        [54.93083913, 55.94807689],\n",
       "        [56.96531466, 57.98255242]],\n",
       "\n",
       "       [[41.57644944, 42.29328477],\n",
       "        [43.01012011, 43.72695544],\n",
       "        [44.44379078, 45.16062611]],\n",
       "\n",
       "       [[37.56128856, 38.14818369],\n",
       "        [38.73507883, 39.32197396],\n",
       "        [39.90886909, 40.49576423]]])"
      ]
     },
     "execution_count": 49,
     "metadata": {},
     "output_type": "execute_result"
    }
   ],
   "source": [
    "temps * np.exp(pressure[:, np.newaxis, np.newaxis] / 1000)"
   ]
  },
  {
   "cell_type": "markdown",
   "id": "324758ca",
   "metadata": {},
   "source": [
    "# Vectorize calculations to avoid explicit loops\n",
    "\n",
    "When working with arrays of data, loops over the individual array elements is a fact of life. However, for improved runtime performance, it is important to avoid performing these loops in Python as much as possible, and let NumPy handle the looping for you. Avoiding these loops frequently, but not always, results in shorter and clearer code as well."
   ]
  },
  {
   "cell_type": "markdown",
   "id": "8dd232ef",
   "metadata": {},
   "source": [
    "# Look ahead/behind\n",
    "\n",
    "One common pattern for vectorizing is in converting loops that work over the current point as well as the previous and/or net point. this comes up when doing finite-difference calculations, e.g. approximating derivatives, \n"
   ]
  },
  {
   "cell_type": "code",
   "execution_count": 56,
   "id": "8d7cf458",
   "metadata": {},
   "outputs": [
    {
     "data": {
      "text/plain": [
       "array([ 0.,  4.,  8., 12., 16., 20.])"
      ]
     },
     "execution_count": 56,
     "metadata": {},
     "output_type": "execute_result"
    }
   ],
   "source": [
    "a = np.linspace(0, 20, 6)\n",
    "a"
   ]
  },
  {
   "cell_type": "markdown",
   "id": "1079285a",
   "metadata": {},
   "source": [
    "We can calculate the forward difference for this array with a manual loop as:"
   ]
  },
  {
   "cell_type": "code",
   "execution_count": 59,
   "id": "6ee690f4",
   "metadata": {},
   "outputs": [
    {
     "data": {
      "text/plain": [
       "array([4., 4., 4., 4., 4.])"
      ]
     },
     "execution_count": 59,
     "metadata": {},
     "output_type": "execute_result"
    }
   ],
   "source": [
    "d = np.zeros(a.size - 1)\n",
    "for i in range(len(a) - 1):\n",
    "    d[i] = a[i + 1] - a[i]\n",
    "d"
   ]
  },
  {
   "cell_type": "markdown",
   "id": "43db86ec",
   "metadata": {},
   "source": [
    "It would be nice to express this calculation without a loop, if possible. To see how to go about this, let’s consider the values that are involved in calculating d[i], a[i+1] and a[i]. The values over the loop iterations are:\n",
    "\n",
    "i a[i+1] a[i]\n",
    "0 4      0   \n",
    "1 8      4\n",
    "2 12     8\n",
    "3 16     12\n",
    "4 20     16\n"
   ]
  },
  {
   "cell_type": "markdown",
   "id": "f72bfd25",
   "metadata": {},
   "source": [
    "We can express the series of values for a[i+1] then as \n"
   ]
  },
  {
   "cell_type": "code",
   "execution_count": 60,
   "id": "504c0947",
   "metadata": {},
   "outputs": [
    {
     "data": {
      "text/plain": [
       "array([ 4.,  8., 12., 16., 20.])"
      ]
     },
     "execution_count": 60,
     "metadata": {},
     "output_type": "execute_result"
    }
   ],
   "source": [
    "a[1:]"
   ]
  },
  {
   "cell_type": "code",
   "execution_count": 69,
   "id": "8b34cd1e",
   "metadata": {},
   "outputs": [
    {
     "data": {
      "text/plain": [
       "array([ 0.,  4.,  8., 12., 16.])"
      ]
     },
     "execution_count": 69,
     "metadata": {},
     "output_type": "execute_result"
    }
   ],
   "source": [
    "a[:-1]"
   ]
  },
  {
   "cell_type": "code",
   "execution_count": 63,
   "id": "f71fb5d8",
   "metadata": {},
   "outputs": [
    {
     "data": {
      "text/plain": [
       "array([4., 4., 4., 4., 4.])"
      ]
     },
     "execution_count": 63,
     "metadata": {},
     "output_type": "execute_result"
    }
   ],
   "source": [
    "a[1:] - a[:-1]"
   ]
  },
  {
   "cell_type": "markdown",
   "id": "351749dd",
   "metadata": {},
   "source": [
    "It should be noted that using slices in this way returns only a view on the original array. This means not only can you use the slices to modify the original data (even accidentally), but that this is also a quick operation that does not involve a copy and does not bloat memory usage."
   ]
  },
  {
   "cell_type": "markdown",
   "id": "e12b3577",
   "metadata": {},
   "source": [
    "## 2nd Derivative\n",
    "A finite difference estimate of the 2nd derivative is given by:\n",
    "\n",
    "(we’re ignoring  here)\n",
    "\n",
    "Let’s write some vectorized code to calculate this finite difference for a (using slices.) What values should we be expecting to get for the 2nd derivative?"
   ]
  },
  {
   "cell_type": "code",
   "execution_count": 64,
   "id": "ef251c76",
   "metadata": {},
   "outputs": [
    {
     "data": {
      "text/plain": [
       "array([0., 0., 0., 0.])"
      ]
     },
     "execution_count": 64,
     "metadata": {},
     "output_type": "execute_result"
    }
   ],
   "source": [
    "2 * a[1:-1] - a[:-2] - a[2:]"
   ]
  },
  {
   "cell_type": "markdown",
   "id": "1c409478",
   "metadata": {},
   "source": [
    "## Blocking \n",
    "\n",
    "Another application where vectorization comes into play to make operations more efficient is when operating on blocks of data. Let's start by creating some temperature data (rounding to make it easier to see/recognize the values)"
   ]
  },
  {
   "cell_type": "code",
   "execution_count": 70,
   "id": "36605528",
   "metadata": {},
   "outputs": [
    {
     "data": {
      "text/plain": [
       "array([17.1, 23.3, 20.9, 20.7, 20.2, 14.4, 28.1, 24.6, 21.3, 16.3])"
      ]
     },
     "execution_count": 70,
     "metadata": {},
     "output_type": "execute_result"
    }
   ],
   "source": [
    "temps = np.round(20 + np.random.randn(10) * 5, 1)\n",
    "temps"
   ]
  },
  {
   "cell_type": "markdown",
   "id": "b1520c76",
   "metadata": {},
   "source": [
    "Let’s start by writing a loop to take a 3-point running mean of the data. We’ll do this by iterating over all points in the array and average the 3 points centered on that point. We’ll simplify the problem by avoiding dealing with the cases at the edges of the array."
   ]
  },
  {
   "cell_type": "code",
   "execution_count": 71,
   "id": "f76ed76c",
   "metadata": {},
   "outputs": [],
   "source": [
    "avg = np.zeros_like(temps)\n",
    "for i in range(1, len(temps) - 1):\n",
    "    sub = temps[i - 1 : i + 2]\n",
    "    avg[i] = sub.mean()"
   ]
  },
  {
   "cell_type": "code",
   "execution_count": 72,
   "id": "e94956b9",
   "metadata": {},
   "outputs": [
    {
     "data": {
      "text/plain": [
       "array([ 0.        , 20.43333333, 21.63333333, 20.6       , 18.43333333,\n",
       "       20.9       , 22.36666667, 24.66666667, 20.73333333,  0.        ])"
      ]
     },
     "execution_count": 72,
     "metadata": {},
     "output_type": "execute_result"
    }
   ],
   "source": [
    "avg"
   ]
  },
  {
   "cell_type": "markdown",
   "id": "0139ce7b",
   "metadata": {},
   "source": [
    "As with the case of doing finite differences, we can express this using slices of the original array:"
   ]
  },
  {
   "cell_type": "code",
   "execution_count": 73,
   "id": "1392df54",
   "metadata": {},
   "outputs": [
    {
     "data": {
      "text/plain": [
       "array([20.43333333, 21.63333333, 20.6       , 18.43333333, 20.9       ,\n",
       "       22.36666667, 24.66666667, 20.73333333])"
      ]
     },
     "execution_count": 73,
     "metadata": {},
     "output_type": "execute_result"
    }
   ],
   "source": [
    "# i - 1            i          i + 1\n",
    "(temps[:-2] + temps[1:-1] + temps[2:]) / 3"
   ]
  },
  {
   "cell_type": "markdown",
   "id": "5088206f",
   "metadata": {},
   "source": [
    "Another option to solve this is not using slicing but by using a powerful NumPy tool: as_strided. This tool can result in some odd behavior, so take care when using–the trade-off is that this can be used to do some powerful operations. What we’re doing here is altering how NumPy is interpreting the values in the memory that underpins the array. So for this array:"
   ]
  },
  {
   "cell_type": "code",
   "execution_count": 74,
   "id": "a49b1b86",
   "metadata": {},
   "outputs": [
    {
     "data": {
      "text/plain": [
       "array([17.1, 23.3, 20.9, 20.7, 20.2, 14.4, 28.1, 24.6, 21.3, 16.3])"
      ]
     },
     "execution_count": 74,
     "metadata": {},
     "output_type": "execute_result"
    }
   ],
   "source": [
    "temps\n"
   ]
  },
  {
   "cell_type": "markdown",
   "id": "fedff918",
   "metadata": {},
   "source": [
    "we can create a view of the array with a new, bigger shape, with rows made up of overlapping values. We do this by specifying a new shape of 8x3, one row for each of the length 3 blocks we can fit in the original 1-D array of data. We then use the strides argument to control how NumPy walks between items in each dimension. The last item in the strides tuple is just as normal–it says that the number of bytes to walk between items is just the size of an item. (Increasing this would skip items.) The first item says that when we go to a new, in this case row, only advance the size of a single item. This is what gives us overlapping rows."
   ]
  },
  {
   "cell_type": "code",
   "execution_count": 75,
   "id": "9204576b",
   "metadata": {},
   "outputs": [
    {
     "data": {
      "text/plain": [
       "array([[17.1, 23.3, 20.9],\n",
       "       [23.3, 20.9, 20.7],\n",
       "       [20.9, 20.7, 20.2],\n",
       "       [20.7, 20.2, 14.4],\n",
       "       [20.2, 14.4, 28.1],\n",
       "       [14.4, 28.1, 24.6],\n",
       "       [28.1, 24.6, 21.3],\n",
       "       [24.6, 21.3, 16.3]])"
      ]
     },
     "execution_count": 75,
     "metadata": {},
     "output_type": "execute_result"
    }
   ],
   "source": [
    "block_size = 3\n",
    "new_shape = (len(temps) - block_size + 1, block_size)\n",
    "bytes_per_item = temps.dtype.itemsize\n",
    "temps_strided = np.lib.stride_tricks.as_strided(\n",
    "    temps, shape=new_shape, strides=(bytes_per_item, bytes_per_item)\n",
    ")\n",
    "temps_strided"
   ]
  },
  {
   "cell_type": "markdown",
   "id": "83fdb30c",
   "metadata": {},
   "source": [
    "Now that we have this view of the array with the rows representing overlapping blocks, we can operate across the rows with mean and the axis=-1 argument to get our running average:"
   ]
  },
  {
   "cell_type": "code",
   "execution_count": 76,
   "id": "34d92328",
   "metadata": {},
   "outputs": [
    {
     "data": {
      "text/plain": [
       "array([20.43333333, 21.63333333, 20.6       , 18.43333333, 20.9       ,\n",
       "       22.36666667, 24.66666667, 20.73333333])"
      ]
     },
     "execution_count": 76,
     "metadata": {},
     "output_type": "execute_result"
    }
   ],
   "source": [
    "temps_strided.mean(axis=-1)"
   ]
  },
  {
   "cell_type": "markdown",
   "id": "ed959f29",
   "metadata": {},
   "source": [
    "It should be noted that there are no copies going on here, so if we change a value at a single indexed location, the change actually shows up in multiple locations:"
   ]
  },
  {
   "cell_type": "code",
   "execution_count": 77,
   "id": "6b455b15",
   "metadata": {},
   "outputs": [
    {
     "data": {
      "text/plain": [
       "array([[  17.1,   23.3, 2000. ],\n",
       "       [  23.3, 2000. ,   20.7],\n",
       "       [2000. ,   20.7,   20.2],\n",
       "       [  20.7,   20.2,   14.4],\n",
       "       [  20.2,   14.4,   28.1],\n",
       "       [  14.4,   28.1,   24.6],\n",
       "       [  28.1,   24.6,   21.3],\n",
       "       [  24.6,   21.3,   16.3]])"
      ]
     },
     "execution_count": 77,
     "metadata": {},
     "output_type": "execute_result"
    }
   ],
   "source": [
    "temps_strided[0, 2] = 2000\n",
    "temps_strided"
   ]
  },
  {
   "cell_type": "markdown",
   "id": "45c35466",
   "metadata": {},
   "source": [
    "# Finding the difference between min and max\n",
    "\n",
    "Another operation that crops up when slicing and dicing data is trying to identify a set of indexes, along a particular axis, within a larger multidimensional array. For instance, say we have a 3-D array of temperatures and want to identify the location of the -10 degree C isotherm within each column."
   ]
  },
  {
   "cell_type": "code",
   "execution_count": 78,
   "id": "43551816",
   "metadata": {},
   "outputs": [],
   "source": [
    "pressure = np.linspace(1000, 100, 25)\n",
    "temps = np.random.randn(25, 30, 40) * 3 + np.linspace(25, -100, 25).reshape(-1, 1, 1)"
   ]
  },
  {
   "cell_type": "code",
   "execution_count": 79,
   "id": "88acbe76",
   "metadata": {},
   "outputs": [
    {
     "data": {
      "text/plain": [
       "array([1000. ,  962.5,  925. ,  887.5,  850. ,  812.5,  775. ,  737.5,\n",
       "        700. ,  662.5,  625. ,  587.5,  550. ,  512.5,  475. ,  437.5,\n",
       "        400. ,  362.5,  325. ,  287.5,  250. ,  212.5,  175. ,  137.5,\n",
       "        100. ])"
      ]
     },
     "execution_count": 79,
     "metadata": {},
     "output_type": "execute_result"
    }
   ],
   "source": [
    "pressure"
   ]
  },
  {
   "cell_type": "code",
   "execution_count": 81,
   "id": "0246be23",
   "metadata": {},
   "outputs": [
    {
     "data": {
      "text/plain": [
       "(25, 30, 40)"
      ]
     },
     "execution_count": 81,
     "metadata": {},
     "output_type": "execute_result"
    }
   ],
   "source": [
    "temps.shape"
   ]
  },
  {
   "cell_type": "markdown",
   "id": "9eb163a7",
   "metadata": {},
   "source": [
    "NumPy has the function argmin() which returns the index of the minimum value. We can use this to find the minimum absolute difference between the value and -10: "
   ]
  },
  {
   "cell_type": "code",
   "execution_count": 82,
   "id": "fee489c0",
   "metadata": {},
   "outputs": [
    {
     "data": {
      "text/plain": [
       "array([[4, 6, 8, ..., 7, 5, 7],\n",
       "       [7, 7, 6, ..., 7, 6, 7],\n",
       "       [6, 7, 7, ..., 7, 7, 7],\n",
       "       ...,\n",
       "       [6, 6, 7, ..., 7, 6, 7],\n",
       "       [6, 7, 6, ..., 7, 7, 6],\n",
       "       [6, 6, 7, ..., 7, 7, 6]], dtype=int64)"
      ]
     },
     "execution_count": 82,
     "metadata": {},
     "output_type": "execute_result"
    }
   ],
   "source": [
    "# Using axis=0 to tell it to operate along the pressure dimension\n",
    "inds = np.argmin(np.abs(temps - -10), axis=0)\n",
    "inds"
   ]
  },
  {
   "cell_type": "code",
   "execution_count": 83,
   "id": "754dc1a5",
   "metadata": {},
   "outputs": [
    {
     "data": {
      "text/plain": [
       "(30, 40)"
      ]
     },
     "execution_count": 83,
     "metadata": {},
     "output_type": "execute_result"
    }
   ],
   "source": [
    "inds.shape"
   ]
  },
  {
   "cell_type": "markdown",
   "id": "7ce7b6c0",
   "metadata": {},
   "source": [
    "Great! We have an array representing the index of the point closest to  in each column of data. We could use this to look up into our pressure coordinates to find the pressure level for each column:"
   ]
  },
  {
   "cell_type": "code",
   "execution_count": 84,
   "id": "4a565059",
   "metadata": {},
   "outputs": [
    {
     "data": {
      "text/plain": [
       "array([[850. , 775. , 700. , ..., 737.5, 812.5, 737.5],\n",
       "       [737.5, 737.5, 775. , ..., 737.5, 775. , 737.5],\n",
       "       [775. , 737.5, 737.5, ..., 737.5, 737.5, 737.5],\n",
       "       ...,\n",
       "       [775. , 775. , 737.5, ..., 737.5, 775. , 737.5],\n",
       "       [775. , 737.5, 775. , ..., 737.5, 737.5, 775. ],\n",
       "       [775. , 775. , 737.5, ..., 737.5, 737.5, 775. ]])"
      ]
     },
     "execution_count": 84,
     "metadata": {},
     "output_type": "execute_result"
    }
   ],
   "source": [
    "pressure[inds]"
   ]
  },
  {
   "cell_type": "markdown",
   "id": "689c22be",
   "metadata": {},
   "source": [
    "How about using that to find the actual temperature value that was closest?"
   ]
  },
  {
   "cell_type": "code",
   "execution_count": 85,
   "id": "1d032690",
   "metadata": {},
   "outputs": [
    {
     "data": {
      "text/plain": [
       "(30, 40, 30, 40)"
      ]
     },
     "execution_count": 85,
     "metadata": {},
     "output_type": "execute_result"
    }
   ],
   "source": [
    "temps[inds, :, :].shape"
   ]
  },
  {
   "cell_type": "markdown",
   "id": "e30fcf41",
   "metadata": {},
   "source": [
    "Unfortunately, this replaced the pressure dimension (size 25) with the shape of our index array (30 x 40), giving us a 30 x 40 x 30 x 40 array (imagine what would have happened with real data!). One solution here would be to loop:\n",
    "\n"
   ]
  },
  {
   "cell_type": "code",
   "execution_count": 86,
   "id": "141501a7",
   "metadata": {},
   "outputs": [
    {
     "data": {
      "text/plain": [
       "array([[ -3.77489983, -10.32143841, -12.39903608, ..., -13.06208565,\n",
       "         -8.17403441, -10.55024164],\n",
       "       [-14.7169672 ,  -7.56327819,  -6.77939967, ...,  -7.60838438,\n",
       "         -9.38068418,  -8.79172211],\n",
       "       [-10.31205858, -10.3959255 , -12.90149417, ...,  -9.17673021,\n",
       "        -10.80894527, -10.38503076],\n",
       "       ...,\n",
       "       [-11.33008063,  -7.32639657, -10.32330325, ...,  -9.8387453 ,\n",
       "         -9.00235153,  -7.75446749],\n",
       "       [ -7.94184741,  -8.3525437 ,  -8.25572994, ..., -11.68654102,\n",
       "        -13.39372387,  -8.78970146],\n",
       "       [ -8.55217109,  -7.52321101,  -1.88087158, ..., -11.41648748,\n",
       "         -8.9473684 ,  -6.2892915 ]])"
      ]
     },
     "execution_count": 86,
     "metadata": {},
     "output_type": "execute_result"
    }
   ],
   "source": [
    "output = np.empty(inds.shape, dtype=temps.dtype)\n",
    "for (i, j), val in np.ndenumerate(inds):\n",
    "    output[i, j] = temps[val, i, j]\n",
    "output"
   ]
  },
  {
   "cell_type": "markdown",
   "id": "00c09e58",
   "metadata": {},
   "source": [
    "Of course, what we really want to do is avoid the explicit loop. Let’s temporarily simplify the problem to a single dimension. If we have a 1-D array, we can pass a 1-D array of indices (a full) range, and get back the same as the original data array:"
   ]
  },
  {
   "cell_type": "code",
   "execution_count": 87,
   "id": "cf72a282",
   "metadata": {},
   "outputs": [
    {
     "data": {
      "text/plain": [
       "array([1000. ,  962.5,  925. ,  887.5,  850. ,  812.5,  775. ,  737.5,\n",
       "        700. ,  662.5,  625. ,  587.5,  550. ,  512.5,  475. ,  437.5,\n",
       "        400. ,  362.5,  325. ,  287.5,  250. ,  212.5,  175. ,  137.5,\n",
       "        100. ])"
      ]
     },
     "execution_count": 87,
     "metadata": {},
     "output_type": "execute_result"
    }
   ],
   "source": [
    "pressure[np.arange(pressure.size)]"
   ]
  },
  {
   "cell_type": "code",
   "execution_count": 88,
   "id": "905f7a2f",
   "metadata": {},
   "outputs": [
    {
     "data": {
      "text/plain": [
       "True"
      ]
     },
     "execution_count": 88,
     "metadata": {},
     "output_type": "execute_result"
    }
   ],
   "source": [
    "np.all(pressure[np.arange(pressure.size)] == pressure)"
   ]
  },
  {
   "cell_type": "markdown",
   "id": "916b3975",
   "metadata": {},
   "source": [
    "We can use this to select all the indices on the other dimensions of our temperature array. We will also need to use the magic of broadcasting to combine arrays of indices across dimensions.\n",
    "\n",
    "Now let’s consider a vectorized solution:"
   ]
  },
  {
   "cell_type": "code",
   "execution_count": 89,
   "id": "d34e9285",
   "metadata": {},
   "outputs": [
    {
     "data": {
      "text/plain": [
       "array([[ -3.77489983, -10.32143841, -12.39903608, ..., -13.06208565,\n",
       "         -8.17403441, -10.55024164],\n",
       "       [-14.7169672 ,  -7.56327819,  -6.77939967, ...,  -7.60838438,\n",
       "         -9.38068418,  -8.79172211],\n",
       "       [-10.31205858, -10.3959255 , -12.90149417, ...,  -9.17673021,\n",
       "        -10.80894527, -10.38503076],\n",
       "       ...,\n",
       "       [-11.33008063,  -7.32639657, -10.32330325, ...,  -9.8387453 ,\n",
       "         -9.00235153,  -7.75446749],\n",
       "       [ -7.94184741,  -8.3525437 ,  -8.25572994, ..., -11.68654102,\n",
       "        -13.39372387,  -8.78970146],\n",
       "       [ -8.55217109,  -7.52321101,  -1.88087158, ..., -11.41648748,\n",
       "         -8.9473684 ,  -6.2892915 ]])"
      ]
     },
     "execution_count": 89,
     "metadata": {},
     "output_type": "execute_result"
    }
   ],
   "source": [
    "y_inds = np.arange(temps.shape[1])[:, np.newaxis]\n",
    "x_inds = np.arange(temps.shape[2])\n",
    "temps[inds, y_inds, x_inds]"
   ]
  },
  {
   "cell_type": "markdown",
   "id": "f4311256",
   "metadata": {},
   "source": [
    "Let’s say we want to find the relative humidity at the -10 C isotherm"
   ]
  },
  {
   "cell_type": "code",
   "execution_count": 90,
   "id": "d87198b6",
   "metadata": {},
   "outputs": [
    {
     "data": {
      "text/plain": [
       "True"
      ]
     },
     "execution_count": 90,
     "metadata": {},
     "output_type": "execute_result"
    }
   ],
   "source": [
    "np.all(output == temps[inds, y_inds, x_inds])"
   ]
  },
  {
   "cell_type": "markdown",
   "id": "1401dea7",
   "metadata": {},
   "source": [
    "here [https://numpy.org/doc/stable/user/basics.broadcasting.html]"
   ]
  },
  {
   "cell_type": "code",
   "execution_count": null,
   "id": "e77a6e2d",
   "metadata": {},
   "outputs": [],
   "source": []
  }
 ],
 "metadata": {
  "kernelspec": {
   "display_name": "Python 3 (ipykernel)",
   "language": "python",
   "name": "python3"
  },
  "language_info": {
   "codemirror_mode": {
    "name": "ipython",
    "version": 3
   },
   "file_extension": ".py",
   "mimetype": "text/x-python",
   "name": "python",
   "nbconvert_exporter": "python",
   "pygments_lexer": "ipython3",
   "version": "3.10.8"
  }
 },
 "nbformat": 4,
 "nbformat_minor": 5
}
